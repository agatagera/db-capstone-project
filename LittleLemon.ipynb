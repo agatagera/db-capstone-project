{
 "cells": [
  {
   "cell_type": "code",
   "execution_count": null,
   "metadata": {},
   "outputs": [],
   "source": [
    "!pip install mysql-connector-python\n",
    "import mysql.connector as connector\n",
    "\n",
    "connection = connector.connect(user=\"user_2\", password=\"password\")\n",
    "cursor = connection.cursor()\n",
    "cursor.execute(\"USE LittleLemonDB\")\n",
    "\n",
    "creating_joins =\n",
    "\"\"\"\n",
    "SELECT customers.Names, \n",
    "customers.Contacts, \n",
    "orders.TotalCost\n",
    "FROM customers\n",
    "INNER JOIN orders ON customers.customerID = orders.customerID\n",
    "WHERE orders.TotalCost > 60;\n",
    "\n",
    "\"\"\"\n",
    "\n",
    "cursor.execute(creating_joins)\n",
    "results =cursor.fetchall()\n",
    "print(cursor.column_names)\n",
    "print(results)"
   ]
  }
 ],
 "metadata": {
  "language_info": {
   "name": "python"
  }
 },
 "nbformat": 4,
 "nbformat_minor": 2
}
